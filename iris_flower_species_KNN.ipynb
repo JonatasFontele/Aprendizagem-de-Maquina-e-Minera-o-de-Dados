{
 "cells": [
  {
   "cell_type": "markdown",
   "id": "db119c6a",
   "metadata": {},
   "source": [
    "# Famous Iris Flower Species Dataset\n",
    "\n",
    "**Objective**\n",
    "\n",
    "* The Iris Flower Dataset involves predicting the flower species given measurements of iris flowers;\n",
    "* It is a multiclass classification problem. The number of observations for each class is balanced;\n",
    "* Solve it in 3 steps: Calculate Euclidean Distance; Get Nearest Neighbors (KNN) and Make Predictions.\n",
    "\n",
    "**Dataset features**\n",
    "\n",
    "* **sepal length** in cm\n",
    "* **sepal width** in cm\n",
    "* **petal length** in cm\n",
    "* **petal width** in cm\n",
    "* **class**: \n",
    "      -- Iris Setosa\n",
    "      -- Iris Versicolour\n",
    "      -- Iris Virginica\n",
    "\n",
    "* Rows: 150\n",
    "* Columns: 5\n",
    "* File format: csv\n"
   ]
  },
  {
   "cell_type": "code",
   "execution_count": null,
   "id": "feb141b9",
   "metadata": {},
   "outputs": [],
   "source": [
    "# calculate the Euclidean distance between two vectors\n",
    "def euclidean_distance(row1, row2):\n",
    "    distance = 0.0\n",
    "    for i in range(len(row1)-1):\n",
    "        distance += (row1[i] - row2[i])**2\n",
    "    return sqrt(distance)"
   ]
  }
 ],
 "metadata": {
  "kernelspec": {
   "display_name": "Python 3 (ipykernel)",
   "language": "python",
   "name": "python3"
  },
  "language_info": {
   "codemirror_mode": {
    "name": "ipython",
    "version": 3
   },
   "file_extension": ".py",
   "mimetype": "text/x-python",
   "name": "python",
   "nbconvert_exporter": "python",
   "pygments_lexer": "ipython3",
   "version": "3.9.10"
  }
 },
 "nbformat": 4,
 "nbformat_minor": 5
}
