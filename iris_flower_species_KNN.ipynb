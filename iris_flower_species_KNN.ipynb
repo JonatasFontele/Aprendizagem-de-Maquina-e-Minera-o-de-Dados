{
 "cells": [
  {
   "cell_type": "markdown",
   "id": "db119c6a",
   "metadata": {},
   "source": [
    "# Famous Iris Flower Species Dataset\n",
    "\n",
    "**Objective**\n",
    "\n",
    "* The Iris Flower Dataset involves predicting the flower species given measurements of iris flowers;\n",
    "* It is a multiclass classification problem. The number of observations for each class is balanced;\n",
    "* Solve it in 3 steps: Calculate Euclidean Distance; Get Nearest Neighbors (KNN) and Make Predictions.\n",
    "\n",
    "**Dataset features**\n",
    "\n",
    "* **sepal length** in cm\n",
    "* **sepal width** in cm\n",
    "* **petal length** in cm\n",
    "* **petal width** in cm\n",
    "* **class**: \n",
    "      -- Iris Setosa\n",
    "      -- Iris Versicolour\n",
    "      -- Iris Virginica\n",
    "\n",
    "* Rows: 150\n",
    "* Columns: 5\n",
    "* File format: csv\n"
   ]
  },
  {
   "cell_type": "code",
   "execution_count": 3,
   "id": "feb141b9",
   "metadata": {},
   "outputs": [],
   "source": [
    "from math import sqrt\n",
    "\n",
    "# calculate the Euclidean distance between two vectors\n",
    "def euclidean_distance(row1, row2):\n",
    "    distance = 0.0\n",
    "    for i in range(len(row1)-1): # for index, value in enumerate(names)\n",
    "        distance += (row1[i] - row2[i])**2\n",
    "    return sqrt(distance)"
   ]
  },
  {
   "cell_type": "markdown",
   "id": "b03c05b0",
   "metadata": {},
   "source": [
    "The function assumes that the last column in each row is an output value which is ignored from the distance calculation"
   ]
  },
  {
   "cell_type": "code",
   "execution_count": 4,
   "id": "001e00f2",
   "metadata": {},
   "outputs": [
    {
     "name": "stdout",
     "output_type": "stream",
     "text": [
      "0.0\n",
      "1.3290173915275787\n",
      "1.9494646655653247\n",
      "1.5591439385540549\n",
      "0.5356280721938492\n",
      "4.850940186986411\n",
      "2.592833759950511\n",
      "4.214227042632867\n",
      "6.522409988228337\n",
      "4.985585382449795\n"
     ]
    }
   ],
   "source": [
    "# Test distance function\n",
    "dataset = [[2.7810836,2.550537003,0],\n",
    "    [1.465489372,2.362125076,0],\n",
    "    [3.396561688,4.400293529,0],\n",
    "    [1.38807019,1.850220317,0],\n",
    "    [3.06407232,3.005305973,0],\n",
    "    [7.627531214,2.759262235,1],\n",
    "    [5.332441248,2.088626775,1],\n",
    "    [6.922596716,1.77106367,1],\n",
    "    [8.675418651,-0.242068655,1],\n",
    "    [7.673756466,3.508563011,1]]\n",
    "row0 = dataset[0]\n",
    "for row in dataset:\n",
    "    distance = euclidean_distance(row0, row)\n",
    "    print(distance)"
   ]
  },
  {
   "cell_type": "code",
   "execution_count": null,
   "id": "b148f758",
   "metadata": {},
   "outputs": [],
   "source": [
    "# Locate the most similar neighbors\n",
    "def get_neighbors(train, test_row, num_neighbors):\n",
    "    distances = list()\n",
    "    for train_row in train:\n",
    "        dist = euclidean_distance(test_row, train_row)\n",
    "        distances.append((train_row, dist))\n",
    "    distances.sort(key=lambda tup: tup[1])\n",
    "    neighbors = list()\n",
    "    for i in range(num_neighbors):\n",
    "        neighbors.append(distances[i][0])\n",
    "    return neighbors"
   ]
  }
 ],
 "metadata": {
  "kernelspec": {
   "display_name": "Python 3 (ipykernel)",
   "language": "python",
   "name": "python3"
  },
  "language_info": {
   "codemirror_mode": {
    "name": "ipython",
    "version": 3
   },
   "file_extension": ".py",
   "mimetype": "text/x-python",
   "name": "python",
   "nbconvert_exporter": "python",
   "pygments_lexer": "ipython3",
   "version": "3.9.10"
  }
 },
 "nbformat": 4,
 "nbformat_minor": 5
}
