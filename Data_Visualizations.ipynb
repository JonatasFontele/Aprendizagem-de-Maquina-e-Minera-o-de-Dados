{
  "nbformat": 4,
  "nbformat_minor": 0,
  "metadata": {
    "colab": {
      "name": "Data Visualizations.ipynb",
      "provenance": [],
      "collapsed_sections": [],
      "authorship_tag": "ABX9TyMWXpAN2bwhZtd1HGuC/jeX"
    },
    "kernelspec": {
      "name": "python3",
      "display_name": "Python 3"
    },
    "language_info": {
      "name": "python"
    }
  },
  "cells": [
    {
      "cell_type": "markdown",
      "source": [
        "# Getting the data\n",
        "Let’s start with getting some data to be visualized. We can easily obtain stock price data with the pandas-datareader library. The following block of code imports the libraries we need and then creates a Pandas data frame that contains Apple stock prices between the specified start and end dates."
      ],
      "metadata": {
        "id": "_ISdF9QgSs6H"
      }
    },
    {
      "cell_type": "code",
      "execution_count": null,
      "metadata": {
        "id": "bEnKGKzPGX5L"
      },
      "outputs": [],
      "source": [
        "import pandas as pd\n",
        "from pandas_datareader import data\n",
        "\n",
        "import matplotlib.pyplot as plt\n",
        "plt.style.use(\"seaborn-darkgrid\")\n",
        "\n",
        "# read the data\n",
        "aapl = data.DataReader(\n",
        "    \"AAPL\", \n",
        "    start='2021-10-01',\n",
        "    end='2021-12-31',\n",
        "    data_source='yahoo'\n",
        ")"
      ]
    },
    {
      "cell_type": "markdown",
      "source": [
        "# Line plot\n",
        "Line plots are used for visualizing how a value or values change over time. We can create a line plot of daily closing prices."
      ],
      "metadata": {
        "id": "slmR7N62Sp9U"
      }
    },
    {
      "cell_type": "code",
      "source": [
        "plt.figure(figsize=(12,6))\n",
        "plt.plot(aapl[\"Close\"])"
      ],
      "metadata": {
        "id": "ovvZQqAvJuHZ"
      },
      "execution_count": null,
      "outputs": []
    },
    {
      "cell_type": "markdown",
      "source": [
        "Since we have the data and a reference base plot, we can start introducing some features to improve it.\n",
        "We observe a continuous increase in Apple stock prices. However, the plot seems so dull and plain. It does not even show what this line represents. Thus, the first step is to add axis labels and a title."
      ],
      "metadata": {
        "id": "PEqkbyZATGkJ"
      }
    },
    {
      "cell_type": "markdown",
      "source": [
        "# 1. Axis labels and title\n",
        "We can add axis labels by using the xlabel and ylabel methods. The title can be added with the title method."
      ],
      "metadata": {
        "id": "AAr2aQ2MTP9M"
      }
    },
    {
      "cell_type": "code",
      "source": [
        "plt.figure(figsize=(12,6))\n",
        "plt.plot(aapl[\"Close\"])\n",
        "\n",
        "# axis labels and title\n",
        "plt.ylabel(\"Closing Price\", fontsize=15)\n",
        "plt.title(\"Apple Stock Price\", fontsize=18)"
      ],
      "metadata": {
        "id": "O_C-KeScJwk4"
      },
      "execution_count": null,
      "outputs": []
    },
    {
      "cell_type": "markdown",
      "source": [
        "# 2. Second line\n",
        "A line plot can be used to show multiple pieces of information by adding additional lines. For instance, we can show the volume information on the same plot."
      ],
      "metadata": {
        "id": "jkZgBV-1UAbk"
      }
    },
    {
      "cell_type": "code",
      "source": [
        "plt.figure(figsize=(12,6))\n",
        "\n",
        "plt.plot(aapl[\"Close\"])\n",
        "\n",
        "# second line\n",
        "plt.plot(aapl[\"Volume\"])\n",
        "\n",
        "# axis labels and title\n",
        "plt.ylabel(\"Closing Price\", fontsize=15)\n",
        "plt.title(\"Apple Stock Price\", fontsize=18)"
      ],
      "metadata": {
        "id": "HF_76HYBJzDf"
      },
      "execution_count": null,
      "outputs": []
    },
    {
      "cell_type": "markdown",
      "source": [
        "It shows two lines but one of them is just a straight line. The reason is the extreme difference between the value ranges of these variables.\n",
        "\n",
        "We can overcome this issue by using a secondary y-axis. We also need to add a second Axes object which can be achieved by using the subplots method. If you’d like to learn more about the structure of Matplotlib, here is a detailed post on that subject."
      ],
      "metadata": {
        "id": "P4EFOpYvUNwZ"
      }
    },
    {
      "cell_type": "markdown",
      "source": [
        "We will use the twinx method to add a secondary y-axis."
      ],
      "metadata": {
        "id": "JAy6QtM_UoZx"
      }
    },
    {
      "cell_type": "code",
      "source": [
        "fig, ax1 = plt.subplots(figsize=(12,6))\n",
        "\n",
        "# second Axes object\n",
        "ax2 = ax1.twinx()\n",
        "\n",
        "ax1.plot(aapl[\"Close\"])\n",
        "ax2.plot(aapl[\"Volume\"], color=\"r\")\n",
        "\n",
        "# axis labels and title\n",
        "ax1.set_ylabel(\"Closing Price\", fontsize=15)\n",
        "ax2.set_ylabel(\"Volume\", fontsize=15)\n",
        "plt.title(\"Apple Stock Price\", fontsize=18)"
      ],
      "metadata": {
        "id": "Ng8kR0mVU60w"
      },
      "execution_count": null,
      "outputs": []
    },
    {
      "cell_type": "markdown",
      "source": [
        "The first line creates the first Axes object which is called “ax1”. Then, we create a second Axes object with a different y-axis using the twinx method.\n",
        "\n",
        "Since we now have Axes objects, the plot function is applied to the Axes objects. Similarly, instead of using the ylabel method, we need to use the set_ylabel method and assign a label to both Axes objects."
      ],
      "metadata": {
        "id": "O_DmV4DIVDwc"
      }
    },
    {
      "cell_type": "markdown",
      "source": [
        "# 3. Legend\n",
        "It is not clear which line represents which information. Thus, a legend is definitely a necessity in such cases."
      ],
      "metadata": {
        "id": "jTXGKXgeVN6M"
      }
    },
    {
      "cell_type": "code",
      "source": [
        "fig, ax1 = plt.subplots(figsize=(12,6))\n",
        "\n",
        "# second Axes object\n",
        "ax2 = ax1.twinx()\n",
        "\n",
        "ax1.plot(aapl[\"Close\"])\n",
        "ax2.plot(aapl[\"Volume\"], color=\"r\")\n",
        "\n",
        "# axis labels and title\n",
        "ax1.set_ylabel(\"Closing Price\", fontsize=15)\n",
        "ax2.set_ylabel(\"Volume\", fontsize=15)\n",
        "plt.title(\"Apple Stock Price\", fontsize=18)\n",
        "\n",
        "# add legends\n",
        "ax1.legend([\"Closing price\"], loc=2, fontsize=12)\n",
        "ax2.legend([\"Volume\"], loc=2, bbox_to_anchor=(0, 0.9), fontsize=12)"
      ],
      "metadata": {
        "id": "fEEyLEjdV-nZ"
      },
      "execution_count": null,
      "outputs": []
    },
    {
      "cell_type": "markdown",
      "source": [
        "The loc parameter specifies the position of the legend and 2 means “upper-left”. The bbox_to_anchor method provides a more flexible way of choosing the location of the legend."
      ],
      "metadata": {
        "id": "WyZORwNP9tGM"
      }
    },
    {
      "cell_type": "markdown",
      "source": [
        "# 4. Gridlines\n",
        "When we have multiple y-axes, the grid lines may not overlap which causes kind of an unappealing look. We can remove the grid lines from one or both axes using the grid method."
      ],
      "metadata": {
        "id": "t180McpT91Lp"
      }
    },
    {
      "cell_type": "code",
      "source": [
        "fig, ax1 = plt.subplots(figsize=(12,6))\n",
        "\n",
        "# second Axes object\n",
        "ax2 = ax1.twinx()\n",
        "\n",
        "ax1.plot(aapl[\"Close\"])\n",
        "ax2.plot(aapl[\"Volume\"], color=\"r\")\n",
        "\n",
        "# axis labels and title\n",
        "ax1.set_ylabel(\"Closing Price\", fontsize=15)\n",
        "ax2.set_ylabel(\"Volume\", fontsize=15)\n",
        "plt.title(\"Apple Stock Price\", fontsize=18)\n",
        "\n",
        "# add legends\n",
        "ax1.legend([\"Closing price\"], loc=2, fontsize=12)\n",
        "ax2.legend([\"Volume\"], loc=2, bbox_to_anchor=(0, 0.9), fontsize=12)\n",
        "\n",
        "# remove grid\n",
        "ax1.grid(False)\n",
        "ax2.grid(False)"
      ],
      "metadata": {
        "id": "yfYipxPaV_Yw"
      },
      "execution_count": null,
      "outputs": []
    },
    {
      "cell_type": "markdown",
      "source": [
        "# 5. Text\n",
        "Matplotlib allows for adding text and annotation to the plots. Adding short messages might be useful in some cases."
      ],
      "metadata": {
        "id": "lIdK_dvu9_9k"
      }
    },
    {
      "cell_type": "code",
      "source": [
        "fig, ax1 = plt.subplots(figsize=(12,6))\n",
        "\n",
        "# second Axes object\n",
        "ax2 = ax1.twinx()\n",
        "\n",
        "ax1.plot(aapl[\"Close\"])\n",
        "ax2.plot(aapl[\"Volume\"], color=\"r\")\n",
        "\n",
        "# axis labels and title\n",
        "ax1.set_ylabel(\"Closing Price\", fontsize=15)\n",
        "ax2.set_ylabel(\"Volume\", fontsize=15)\n",
        "plt.title(\"Apple Stock Price\", fontsize=18)\n",
        "\n",
        "# add legends\n",
        "ax1.legend([\"Closing price\"], loc=2, fontsize=12)\n",
        "ax2.legend([\"Volume\"], loc=2, bbox_to_anchor=(0, 0.9), fontsize=12)\n",
        "\n",
        "# remove grid\n",
        "ax1.grid(False)\n",
        "ax2.grid(False)\n",
        "\n",
        "# add text\n",
        "ax1.text(\n",
        "   \"2021-10-31\", \n",
        "   170, \n",
        "   \"Nice plot!\", \n",
        "   fontsize=18, \n",
        "   color=\"green\"\n",
        ")"
      ],
      "metadata": {
        "id": "oy8VM2DyWDw3"
      },
      "execution_count": null,
      "outputs": []
    },
    {
      "cell_type": "markdown",
      "source": [
        "The first two parameters specify the location of the text. The third one is the text to be written on the plot. The remaining parameters define the visual properties such as size and color."
      ],
      "metadata": {
        "id": "WL311BWx-Ul4"
      }
    },
    {
      "cell_type": "markdown",
      "source": [
        "Bonus: We can also add a frame to our plots with rcParams.After executing the following two lines, the plots will be generated with a black box frame."
      ],
      "metadata": {
        "id": "sGgJlOXi-cS1"
      }
    },
    {
      "cell_type": "code",
      "source": [
        "plt.rcParams[\"axes.edgecolor\"] = \"black\"\n",
        "plt.rcParams[\"axes.linewidth\"] = 1"
      ],
      "metadata": {
        "id": "j9VhTuYuWJGD"
      },
      "execution_count": null,
      "outputs": []
    },
    {
      "cell_type": "markdown",
      "source": [
        "# 6. Size of x ticks and y ticks\n",
        "We can also adjust the size of x ticks and y ticks by using the tick_params parameter."
      ],
      "metadata": {
        "id": "5JarKvP7-gJl"
      }
    },
    {
      "cell_type": "code",
      "source": [
        "fig, ax1 = plt.subplots(figsize=(12,6))\n",
        "\n",
        "# second Axes object\n",
        "ax2 = ax1.twinx()\n",
        "\n",
        "ax1.plot(aapl[\"Close\"])\n",
        "ax2.plot(aapl[\"Volume\"], color=\"r\")\n",
        "\n",
        "# axis labels and title\n",
        "ax1.set_ylabel(\"Closing Price\", fontsize=15)\n",
        "ax2.set_ylabel(\"Volume\", fontsize=15)\n",
        "plt.title(\"Apple Stock Price\", fontsize=18)\n",
        "\n",
        "# add legends\n",
        "ax1.legend([\"Closing price\"], loc=2, fontsize=12)\n",
        "ax2.legend([\"Volume\"], loc=2, bbox_to_anchor=(0, 0.9), fontsize=12)\n",
        "\n",
        "# remove grid\n",
        "ax1.grid(False)\n",
        "ax2.grid(False)\n",
        "\n",
        "# add text\n",
        "ax1.text(\n",
        "   \"2021-10-31\", \n",
        "   170, \n",
        "   \"Nice plot!\", \n",
        "   fontsize=18, \n",
        "   color=\"green\"\n",
        ")\n",
        "\n",
        "# tick size\n",
        "ax1.tick_params(axis='both', which='major', labelsize=13)\n",
        "ax2.tick_params(axis='both', which='major', labelsize=13)"
      ],
      "metadata": {
        "id": "i1WG4epXWJs5"
      },
      "execution_count": null,
      "outputs": []
    }
  ]
}